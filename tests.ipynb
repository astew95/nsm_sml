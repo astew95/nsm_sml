{
 "cells": [
  {
   "cell_type": "code",
   "execution_count": 1,
   "id": "fe28cb74",
   "metadata": {},
   "outputs": [
    {
     "data": {
      "text/html": [
       "<style>.container { width:90% !important; }</style>"
      ],
      "text/plain": [
       "<IPython.core.display.HTML object>"
      ]
     },
     "metadata": {},
     "output_type": "display_data"
    }
   ],
   "source": [
    "from IPython.display import display, HTML\n",
    "display(HTML(\"<style>.container { width:90% !important; }</style>\"))"
   ]
  },
  {
   "cell_type": "markdown",
   "id": "fd634b72",
   "metadata": {},
   "source": [
    "# Testing\n",
    "\n",
    "Run the code below to compile the tests before running the tests in the above block! Comment out the tests you don't want to run."
   ]
  },
  {
   "cell_type": "code",
   "execution_count": 2,
   "id": "1ec6b191",
   "metadata": {},
   "outputs": [
    {
     "data": {
      "text/html": [
       "<style>.container { width:90% !important; }</style>"
      ],
      "text/plain": [
       "<IPython.core.display.HTML object>"
      ]
     },
     "metadata": {},
     "output_type": "display_data"
    },
    {
     "data": {
      "text/html": [
       "<style>.container { width:90% !important; }</style>"
      ],
      "text/plain": [
       "<IPython.core.display.HTML object>"
      ]
     },
     "metadata": {},
     "output_type": "display_data"
    },
    {
     "data": {
      "text/html": [
       "<style>.container { width:90% !important; }</style>"
      ],
      "text/plain": [
       "<IPython.core.display.HTML object>"
      ]
     },
     "metadata": {},
     "output_type": "display_data"
    },
    {
     "data": {
      "text/html": [
       "<style>.container { width:90% !important; }</style>"
      ],
      "text/plain": [
       "<IPython.core.display.HTML object>"
      ]
     },
     "metadata": {},
     "output_type": "display_data"
    },
    {
     "name": "stdout",
     "output_type": "stream",
     "text": [
      "Gauss:  0.32314708027098704\n",
      "Starcrash:  -0.005152245421052439\n",
      "Cubic Spline:  -0.011023163023913216\n",
      "Wend 2:  0.32314708027098704\n",
      "Wend 4:  0.32314708027098704\n"
     ]
    },
    {
     "data": {
      "text/html": [
       "<style>.container { width:90% !important; }</style>"
      ],
      "text/plain": [
       "<IPython.core.display.HTML object>"
      ]
     },
     "metadata": {},
     "output_type": "display_data"
    }
   ],
   "source": [
    "import numpy as np\n",
    "import matplotlib.pyplot as plt\n",
    "from scipy.special import gamma\n",
    "import time\n",
    "import math\n",
    "import matplotlib as mp\n",
    "import scipy as sp\n",
    "import pylab as py\n",
    "from mpl_toolkits.mplot3d import Axes3D\n",
    "import matplotlib.animation\n",
    "import pandas as pd\n",
    "import os\n",
    "plt.rcParams['animation.html'] = 'html5'\n",
    "\n",
    "# from ipynb.fs.full.NS_dynamics import *;\n",
    "from ipynb.fs.full.NS_init import *;\n",
    "from ipynb.fs.full.kernels import *;"
   ]
  },
  {
   "cell_type": "code",
   "execution_count": null,
   "id": "0bd0b8b8",
   "metadata": {},
   "outputs": [],
   "source": [
    "def test_plot_kernels(init = True, keys = [\"acc\"],ylimits=False, hs=[0.01],ks = [\"faber\",\"cubic_spline\",\"wendland_4\",\"wendland_2\",\"gaussian\"],times = [(0.001,.02)],num_points=200,plot=False): #,(0.01,.2),(0.0001,.002),(.1,2),(1,20)] # (dt, tEnd)\n",
    "    STYLE =  'dark_background'#'_classic_test_patch'#'seaborn-deep'\n",
    "    plt.style.use(STYLE)\n",
    "    KERNELS=\"-\".join(np.copy(ks))\n",
    "    VARS =\"\"\n",
    "    ylims = {\"acc\": (0,10), \"dAdt\": (0,10),\"visc\": (0,0.3),\"pos\":(-12,12),\"rho\":(0,4000),\"grav\":(0,0.01),\"Pressure\":(0,0.01),\"(P - grav force)\":(0,0.03)}\n",
    "    ## Test initialization!\n",
    "    kern_plot = {}\n",
    "    for h in hs:\n",
    "        print(\"\\n ******* SUMMARY ******** \\n\")\n",
    "        for time in times:\n",
    "            for k in ks:\n",
    "                filename=\"test_get_acc_h=\" + str(h) + \"dt=\"+ str(time[0])+ \"End=\" +str(time[1])\n",
    "                #eos = EOS(\"polytropic\")\n",
    "                star1 = NS_(\"mystar\", mass = 1, radius = 12, num_points = num_points,plot_initialized_star=False,kernel_type=k,prt=True)\n",
    "                if init:\n",
    "                    pass\n",
    "                else:\n",
    "                    star1 = NS_(\"mystar\", mass = 1, radius = 13, num_points = 400,plot_initialized_star=False,kernel_type=kt)\n",
    "                    star2 = NS_(\"mysecondstar\", mass = 1, radius = 13, num_points = 400,plot_initialized_star=False,kernel_type=kt)\n",
    "                    star2.com = [8,0,0]\n",
    "                    star1.com = [-8,0,0]\n",
    "                    combined_star = star1.combine(star2)\n",
    "                    print(combined_star.num_points)\n",
    "                    tEnd = 800\n",
    "                    print(kt)\n",
    "                    combined_star.kernel_type = kt\n",
    "                    com_list = get_com_lists(R = 10)\n",
    "                    combined_star.plot_init=True\n",
    "                    combined_star.update_star_new(tag=kt,plotRealTime=True,dt = 0.5,COM_POSITIONS=com_list,params=params)\n",
    "                kern_plot[k]= star1.test_acc_data\n",
    "                if plot:\n",
    "                    plot_single_timestep(star1.pos,title=k+\" \"+str(h))\n",
    "        d = star1.test_acc_data\n",
    "        for key in d.keys():\n",
    "            if key in keys:\n",
    "                data = []\n",
    "                for k in ks:\n",
    "                    data.append(kern_plot[k][key])   # append data for each kernel\n",
    "                data = np.asarray(data)\n",
    "                if ylimits:\n",
    "                    plt.ylim(ylims[key])\n",
    "                if key not in ['grav']:\n",
    "                    csfont = {'fontname':'Times New Roman'}\n",
    "                    hfont = {'fontname':'Helvetica'}\n",
    "                    titles= {\"acc\":\"Acceleration\",\"rho\":\"Density\",\"P\":\"Pressure\",\"pos\":\"Position\"}\n",
    "                    k_titles= {\"gaussian\":\"Gaussian\",\"wendland_4\":\"Wendland 4\",\"wendland_2\":\"Wendland 2\",\"cubic_spline\":\"Cubic Spline\",\"faber\":\"Faber\"}\n",
    "                    print(\"\\nplotting \", titles[key])\n",
    "                    for i in range(len(data)):\n",
    "                        plt.plot(data[i])\n",
    "                        TITLE=titles[key]#\n",
    "                    plt.title(TITLE,loc='right',**csfont)\n",
    "                    plt.legend([k_titles[i] for i in ks])\n",
    "                    plt.ylabel(titles[key])\n",
    "                    plt.xlabel(\"Timestep (Code Time)\")\n",
    "                    plt.savefig(\"plots/kernel/\"+TITLE+\", h=\"+str(h)+\"-\"+KERNELS+\".jpeg\", dpi=150)\n",
    "                    plt.show()\n",
    "                else:\n",
    "                    pass\n",
    "                if key in []:#[\"pos\"]:\n",
    "                    print(\"making movie\")\n",
    "                    plot(data, \"pos_NS_anim_\"+k)\n",
    "                \n",
    "#                     for i in range(len(data)):\n",
    "#                         plt.plot(data[i])\n",
    "#                     plt.title(key+\",h=\"+str(h)+\", tFin=\"+str(time[1]),loc='right')\n",
    "#                     plt.legend(ks)\n",
    "#                     plt.show()\n",
    "                print(\"\\n\")\n",
    "    return star1.test_acc_data"
   ]
  },
  {
   "cell_type": "code",
   "execution_count": null,
   "id": "783307ab",
   "metadata": {},
   "outputs": [],
   "source": [
    "def test_get_acc(keys = [\"acc\"],ylimits=False, hs=[0.01],ks = [\"faber\",\"cubic_spline\",\"wendland_4\",\"wendland_2\",\"gaussian\"],times = [(0.001,.02)],num_points=200,plot=False): #,(0.01,.2),(0.0001,.002),(.1,2),(1,20)] # (dt, tEnd)\n",
    "    ylims = {\"acc\": (0,10), \"dAdt\": (0,10),\"visc\": (0,0.3),\"pos\":(-12,12),\"rho\":(0,4000),\"grav\":(0,0.01),\"Pressure\":(0,0.01),\"(P - grav force)\":(0,0.03)}\n",
    "    ## Test initialization!\n",
    "    kern_plot = {}\n",
    "    for h in hs:\n",
    "        print(\"\\n ******* SUMMARY ******** \\n\")\n",
    "        for time in times:\n",
    "            for k in ks:\n",
    "                filename=\"test_get_acc_h=\" + str(h) + \"dt=\"+ str(time[0])+ \"End=\" +str(time[1])\n",
    "                eos = EOS(\"polytropic\")\n",
    "                star1 = NS(\"star-test-acc\", eos, None, num_points=num_points,h_init=h,dt=time[0],tEnd=time[1],test = True,kernel_type=k)\n",
    "                \n",
    "                result = star1.initialization_notes\n",
    "                print(\"Star with initial smoothing length \" + str(h)+ \" and kernel '\" + str(k) + \"' \\n - was initialized and \" + result + \"\\n\")\n",
    "                kern_plot[k]= star1.TEST_ACC_DATA\n",
    "                if plot:\n",
    "                    plot_single_timestep(star1.pos,title=k+\" \"+str(h))\n",
    "        d = star1.TEST_ACC_DATA\n",
    "        for key in d.keys():\n",
    "            if key in keys:\n",
    "                data = []\n",
    "                for k in ks:\n",
    "                    data.append(kern_plot[k][key])   # append data for each kernel\n",
    "                data = np.asarray(data)\n",
    "                if ylimits:\n",
    "                    plt.ylim(ylims[key])\n",
    "                if key not in ['visc','grav']:\n",
    "                    print(\"plotting \", key)\n",
    "                    for i in range(len(data)):\n",
    "                        plt.plot(data[i])\n",
    "                    plt.title(key+\",    h=\"+str(h)+\", tFin=\"+str(time[1]),loc='right')\n",
    "                    plt.legend(ks)\n",
    "                    plt.show()\n",
    "                else:\n",
    "                    pass\n",
    "                if key in []:#[\"pos\"]:\n",
    "                    print(\"making movie\")\n",
    "                    plot(data, \"pos_NS_anim_\"+k)\n",
    "                \n",
    "#                     for i in range(len(data)):\n",
    "#                         plt.plot(data[i])\n",
    "#                     plt.title(key+\",h=\"+str(h)+\", tFin=\"+str(time[1]),loc='right')\n",
    "#                     plt.legend(ks)\n",
    "#                     plt.show()\n",
    "                print(\"\\n\")\n",
    "    return star1.TEST_ACC_DATA\n",
    " "
   ]
  },
  {
   "cell_type": "code",
   "execution_count": 3,
   "id": "04007129",
   "metadata": {},
   "outputs": [],
   "source": [
    "def test_kernels():\n",
    "    eos = EOS(\"polytropic\")\n",
    "    kernels = [\"wend2\",\"wend4\", \"gaussian\", \"cubic_spline\"]\n",
    "    passed = 0\n",
    "    x = np.asarray([[0,1,1.1,30,2,1.2,1.9,1.999]])\n",
    "    for grad in [False,True]:\n",
    "        for tag in kernels:\n",
    "            try:\n",
    "                star = NS(\"star1\", eos, kernel_type=tag)\n",
    "            except:\n",
    "                print(\"You are having a problem initializing a star.\")\n",
    "                return passed,len(kernels)*10\n",
    "            print(\"testing kernel implementation...\")\n",
    "            for h in [0.1,0.01,0.001,1,10]:\n",
    "                solution = TESTW(x,x,x,h,tag=tag,grad=grad)\n",
    "                if not grad:\n",
    "                    g =\"evaluation\"\n",
    "                else:\n",
    "                    g = \"gradient\"\n",
    "                if solution:\n",
    "                    passed +=1\n",
    "                else:\n",
    "                    print(tag + \" kernel failed testing: \"+g+\" for h = \"+str(h)+\".\")\n",
    "\n",
    "    return passed,len(kernels)*10\n",
    "\n",
    "def test_density():\n",
    "    return 0,0\n",
    "\n",
    "def test_get_acc(): \n",
    "    return 0,0\n",
    "\n",
    "\n",
    "def single_star_test0():\n",
    "    date = \"Nov17_2023\"\n",
    "    trial = \"4\"\n",
    "    notes = \"NS_TEST_eta800_polytrop\"\n",
    "    spec = notes\n",
    "    folder = \"\"\n",
    "    eos_tag = \"polytropic\"\n",
    "    dt = 0.001 # seconds\n",
    "    tEnd = 1 # seconds\n",
    "    m = 3 # SMs\n",
    "    r = 10 # km\n",
    "    points_ = 300 # sph points\n",
    "    nu_ = 1 # artificial viscosity\n",
    "    lt = \"vanilla\" # Lagrangian formulation tag\n",
    "    kt = \"wendland_2\" # Kernel type\n",
    "    eta = 0.08\n",
    "    cl = -1 # scale factor for lambda, an artificial potential energy.\n",
    "    simulate_NS(eos_tag,dt,tEnd,m,r,points_,nu_,lt,kt,date,trial,notes=notes,specs = spec,folder_name=folder,eta_=eta,cl=cl)\n",
    "    \n",
    "def combine_star_test():\n",
    "    eos_tag = \"polytropic\"\n",
    "    dt = 0.001 # seconds\n",
    "    tEnd = 1 # seconds\n",
    "    m = 3 # SMs\n",
    "    r = 10 # km\n",
    "    points_ = 300 # sph points\n",
    "    nu_ = 1 # artificial viscosity\n",
    "    lt = \"vanilla\" # Lagrangian formulation tag\n",
    "    kt = \"wendland_2\" # Kernel type\n",
    "    eta = 0.08\n",
    "    cl = -1 # scale factor for lambda, an artificial potential energy.\n",
    "    simulate_NS(eos_tag,dt,tEnd,m,r,points_,nu_,lt,kt,date,trial,notes=notes,specs = spec,folder_name=folder,eta_=eta,cl=cl)\n",
    "    \n",
    "def flyby_test():\n",
    "    pass\n",
    "\n",
    "\n",
    "def all_tests(): \n",
    "    p,t = test_kernel()\n",
    "    print(\"kernel passed\" + str(p)+\"/\"+str(t) + \" tests\")\n",
    "    p,t = test_density()\n",
    "    print(\"test_density passed\" + str(p)+\"/\"+str(t) + \" tests\")\n",
    "    p,t = test_get_acc()\n",
    "    print(\"test_get_acc passed\" + str(p)+\"/\"+str(t) + \" tests\")\n",
    "    single_star_test()\n",
    "    print(\"single star test: complete!\")\n",
    "    p,t = combine_star_test()\n",
    "    print(\"combine star test: complete!\")\n",
    "    \n",
    "def plot_init_test():\n",
    "    print(\"testing plot init.\")\n",
    "    # test sphere plot above!!\n",
    "    N = 1000\n",
    "    r = 1\n",
    "    m=mesh_pts(N,r)\n",
    "    print(\"meshed points: \",len(m))\n",
    "    #print(N/len(m))\n",
    "\n",
    "    # Import libraries\n",
    "    from mpl_toolkits import mplot3d\n",
    "    import numpy as np\n",
    "    import matplotlib.pyplot as plt\n",
    "\n",
    "    p=m\n",
    "    print(\"Creating figure...\")\n",
    "    fig = plt.figure(figsize = (10, 7))\n",
    "    ax = plt.axes(projection =\"3d\")\n",
    "    x = p[:,0]\n",
    "    y = p[:,1]\n",
    "    z = p[:,2]\n",
    "    # Creating plot\n",
    "    ax.scatter3D(x, y, z, color = \"green\")\n",
    "    plt.title(\"simple 3D scatter plot\")\n",
    "    # show plot\n",
    "    plt.show()\n",
    "    \n",
    "def single_star_test1():\n",
    "    print(\"Testing simulate.\")\n",
    "    print(\"single_star_test1\")\n",
    "    eos = EOS('ross2018')\n",
    "    my_ns1 = NS(\"star_1\", eos, num_points = 700,eta = 2e-2);\n",
    "    #my_ns2 = NS(\"star_2\", eos, num_points = 200,eta = 1e-1);\n",
    "    testing_params = {\"dt\": 10, \"distance apart\": 45}\n",
    "    simulate_NS([my_ns1],test_values = testing_params, testing = True, folder_name = \"test-simulate-single-star-output\")\n",
    "\n"
   ]
  },
  {
   "cell_type": "code",
   "execution_count": 1,
   "id": "cc94c3a0",
   "metadata": {},
   "outputs": [],
   "source": [
    "## test gradW implementation\n",
    "def test_kernels2():\n",
    "    print(\"test gradW\")\n",
    "    pos = np.asarray([[0.01,2,3],[10,1.2,4],[1,100,1],[0,0,0]])\n",
    "    dx,dy,dz = getPairwiseSeparations(pos,pos)\n",
    "    h = 5\n",
    "    k = \"faber\"\n",
    "    print(gradW( dx, dy, dz, h , k))\n",
    "    \n",
    "    print(\"test getDensity\")\n",
    "    r =  np.asarray([[0.8607446,0.8607446,0.8607446]])\n",
    "    pos =  np.asarray([[0.860744,0,1]])\n",
    "    m =  0.01\n",
    "    h = np.asarray([[11]])\n",
    "    print(getDensity(r, pos, m, h ))\n",
    "    print(\"test complete\")\n",
    "      \n",
    "\n",
    "def testNS_init():\n",
    "    ## Test initialization!\n",
    "    hs = [0.001,0.01]#,0.1,1,2,10,20]\n",
    "    times = [(0.001,.02)]#,(0.01,.2),(0.0001,.002),(.1,2),(1,20)] # (dt, tEnd)\n",
    "    ks = [\"faber\",\"cubic_spline\",\"wendland_4\"]\n",
    "    for h in hs:\n",
    "        for time in times:\n",
    "            for k in ks:\n",
    "                print(\"_______\\n\\n\\n\\ndt/ending time: \", time,\"Kernel: \",k,\"h: \",h,\"\\n\\n\")\n",
    "                filename=\"wendland4_test_init_h=\" + str(h) + \"dt=\"+ str(time[0])+ \"End=\" +str(time[1])\n",
    "                star1 = NS(\"star1\", \"polytropic\",None, num_points=200,h_init=h,dt=time[0],tEnd=time[1],test = False,kernel_type=k)\n",
    "                result = star1.initialization_notes\n",
    "                print(\"Star with smoothing length \" + str(h)+ \" and kernel \" + str(k) + \" was initialized and \" + result)\n",
    "                print(\"\\n\\n\\n\\n***********************************************************************************\")\n",
    "                \n",
    "def testNS():\n",
    "    ## Test initialization!\n",
    "    hs = [0.001,0.01]#,0.1,1,2,10,20]\n",
    "    times = [(0.01,.2)]#,(0.01,.2),(0.0001,.002),(.1,2),(1,20)] # (dt, tEnd)\n",
    "    ks = [\"faber\",\"cubic_spline\",\"wendland_4\"]\n",
    "    passed = 0\n",
    "    for h in hs:\n",
    "        for time in times:\n",
    "            for k in ks:\n",
    "                try:\n",
    "                    filename=\"wendland4_test_init_h=\" + str(h) + \"dt=\"+ str(time[0])+ \"End=\" +str(time[1])\n",
    "                    star1 = NS(\"star1\", \"polytropic\",None, num_points=150,h_init=h,dt=time[0],tEnd=time[1],test = False,kernel_type=k)\n",
    "                    print(\"\\nPASS: Succesfully initialized a star with kernel '\" + str(k) + \"' and smoothing length \" + str(h))\n",
    "                    passed += 1\n",
    "                except:\n",
    "                    print(\"\\n Failed to initialize a star with kernel '\" + str(k) + \"' and smoothing length \" + str(h))\n",
    "                    pass\n",
    "    ntests = len(hs)*len(ks)*len(times)\n",
    "    print(\" TESTS PASSED: \" + str(passed) + \"/\" + str(ntests))"
   ]
  },
  {
   "cell_type": "code",
   "execution_count": null,
   "id": "aab2702d",
   "metadata": {},
   "outputs": [],
   "source": []
  }
 ],
 "metadata": {
  "kernelspec": {
   "display_name": "Python 3 (ipykernel)",
   "language": "python",
   "name": "python3"
  },
  "language_info": {
   "codemirror_mode": {
    "name": "ipython",
    "version": 3
   },
   "file_extension": ".py",
   "mimetype": "text/x-python",
   "name": "python",
   "nbconvert_exporter": "python",
   "pygments_lexer": "ipython3",
   "version": "3.9.12"
  }
 },
 "nbformat": 4,
 "nbformat_minor": 5
}
