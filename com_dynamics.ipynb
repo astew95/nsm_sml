{
 "cells": [
  {
   "cell_type": "code",
   "execution_count": null,
   "id": "c6f0b571",
   "metadata": {},
   "outputs": [],
   "source": [
    "import numpy as np\n",
    "import matplotlib.pyplot as plt\n",
    "from scipy.integrate import solve_ivp\n",
    "\n",
    "def dbydt(t,v):\n",
    "    x,y,vx,vy=v\n",
    "    rsq=x**2+y**2\n",
    "    G=1\n",
    "    b=3\n",
    "    beta=3\n",
    "    return vx,vy,-G*x/rsq**((b+1)/2),-G*y/rsq**((beta+1)/2)\n",
    "\n",
    "def get_COM(starting_coordinate,starting_velocity,R,plot=False):\n",
    "    v = starting_coordinate[:-1] + starting_velocity[:-1]\n",
    "    t_final = 25\n",
    "    result=solve_ivp(dbydt,[0,t_final],v,t_eval=np.linspace(0,t_final,512))\n",
    "    if plot:\n",
    "        plt.scatter(result.y[0]*R,result.y[1]*R)\n",
    "        plt.scatter(0,0,color='yellow',s=200)\n",
    "        plt.show()\n",
    "    return result.y[0]*R,result.y[1]*R\n",
    "\n",
    "def get_com_lists(R=45):\n",
    "    R = R/2\n",
    "    com_list1 = get_COM([1,0,0],[0,-1,0],R)\n",
    "    com_list2 = get_COM([-1,0,0],[0,1,0],R)\n",
    "    out = []\n",
    "    for i in range(len(com_list1[0])):\n",
    "        com_list_1 = [com_list1[0][i] ,com_list1[1][i],0]\n",
    "        com_list_2 = [com_list2[0][i] ,com_list2[1][i],0]\n",
    "        out.append([com_list_1,com_list_2])\n",
    "    return out "
   ]
  }
 ],
 "metadata": {
  "kernelspec": {
   "display_name": "Python 3 (ipykernel)",
   "language": "python",
   "name": "python3"
  },
  "language_info": {
   "codemirror_mode": {
    "name": "ipython",
    "version": 3
   },
   "file_extension": ".py",
   "mimetype": "text/x-python",
   "name": "python",
   "nbconvert_exporter": "python",
   "pygments_lexer": "ipython3",
   "version": "3.9.12"
  }
 },
 "nbformat": 4,
 "nbformat_minor": 5
}
