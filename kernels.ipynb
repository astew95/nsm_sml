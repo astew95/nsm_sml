{
 "cells": [
  {
   "cell_type": "markdown",
   "id": "a9afda57",
   "metadata": {},
   "source": [
    "# Kernel Implementation\n",
    "### The Gaussian Smoothing function is used to smooth out the point values, extrapolating them to other positions.\n",
    " Given the distribution of particles, we can reconstruct the density at any location using the smoothing kernels. For example, the density at each SPH particle location is a sum over all the particles with weighting set by the distances between particles and the smoothing kernel:"
   ]
  },
  {
   "cell_type": "code",
   "execution_count": 41,
   "id": "2908da4e",
   "metadata": {},
   "outputs": [
    {
     "data": {
      "text/html": [
       "<style>.container { width:90% !important; }</style>"
      ],
      "text/plain": [
       "<IPython.core.display.HTML object>"
      ]
     },
     "metadata": {},
     "output_type": "display_data"
    }
   ],
   "source": [
    "from IPython.display import display, HTML\n",
    "display(HTML(\"<style>.container { width:90% !important; }</style>\"))\n",
    "\n",
    "import numpy as np\n",
    "import matplotlib.pyplot as plt\n",
    "from scipy.special import gamma\n",
    "import time\n",
    "import math\n",
    "import matplotlib as mp\n",
    "import scipy as sp\n",
    "import pylab as py\n",
    "from pytreegrav import Accel, Potential\n",
    "#from ipynb.fs.full.tests import all_tests;"
   ]
  },
  {
   "cell_type": "code",
   "execution_count": 42,
   "id": "79636c6b",
   "metadata": {},
   "outputs": [],
   "source": [
    "def W_Holtz(r, h):\n",
    "\t\"\"\"\n",
    "    Gausssian Smoothing kernel (3D)\n",
    "\tx     is a vector/matrix of x positions\n",
    "\ty     is a vector/matrix of y positions\n",
    "\tz     is a vector/matrix of z positions\n",
    "\th     is the smoothing length\n",
    "\tw     is the evaluated smoothing function\n",
    "\t\"\"\"\n",
    "\tw = (1.0 / (h*np.sqrt(np.pi)))**3 * np.exp( -r**2 / h**2)\n",
    "\treturn w\n",
    "\t\n",
    "\n",
    "def dW_Holtz(r, h ):\n",
    "\t\"\"\"\n",
    "\tGradient of the Gausssian Smoothing kernel (3D)\n",
    "\tx     is a vector/matrix of x positions\n",
    "\ty     is a vector/matrix of y positions\n",
    "\tz     is a vector/matrix of z positions\n",
    "\th     is the smoothing length\n",
    "\twx, wy, wz     is the evaluated gradient\n",
    "\t\"\"\"\n",
    "\tn = -2 * np.exp( -r**2 / h**2) / h**5 / (np.pi)**(3/2)\n",
    "\treturn n"
   ]
  },
  {
   "cell_type": "code",
   "execution_count": 43,
   "id": "e271db7d",
   "metadata": {},
   "outputs": [],
   "source": [
    "def apply_condition(Array,condition,function):\n",
    "    Array[condition] = function(Array[condition])\n",
    "    Array[~condition] = Array[~condition]\n",
    "    return Array\n",
    "\n",
    "def conditions(n, conditions_list):\n",
    "    \"\"\" Takes in a numpy array, and a list of conditions and functions to use.\n",
    "    Example usage: \n",
    "        n : np array [1,2,3,4]\n",
    "        f = lambda x : 5\n",
    "        f2 = lambda x : x+10\n",
    "        L = [(n>2,f),(n<2,f2)]\n",
    "    \n",
    "        conditions(n,L)\n",
    "        out: >> array([11,  2,  5,  5])\n",
    "    \"\"\"\n",
    "    for i in conditions_list:\n",
    "        out = apply_condition(n,i[0],i[1])\n",
    "    return out"
   ]
  },
  {
   "cell_type": "code",
   "execution_count": 44,
   "id": "a8ee136b",
   "metadata": {},
   "outputs": [],
   "source": [
    "def cubic_spline_kernel(r,h,grad=False): \n",
    "    \"\"\" https://pysph.readthedocs.io/en/latest/reference/kernels.html\"\"\"\n",
    "    zero = lambda x: 0\n",
    "    sigma = 1/(np.pi*h**3)\n",
    "    r = r/h\n",
    "    if grad:\n",
    "        cg1 = lambda x: sigma*(1-3*x*(1-x/2)-1.5*x**2*0.5)\n",
    "        cg2 = lambda x: -1*sigma/4*2*(2-x)\n",
    "    else:\n",
    "        cg1 = lambda x: sigma*(1-1.5*x**2*(1-x/2))\n",
    "        cg2 = lambda x: sigma/4*(2-x)**2\n",
    "    L = [(r <= 1, cg1), (r<=2, cg2), (r > 2, zero),(r < 0, zero)]\n",
    "    return conditions(r,L)\n",
    "    \n",
    "def starcrash_kernel(r,h,grad=False):\n",
    "    zero = lambda x: 0\n",
    "    r = r/h\n",
    "    C = 1/(np.pi*h**3)\n",
    "    if grad:\n",
    "        cg1 = lambda x: C/h*(- 1.5*x*2 + 3*0.75*x**2)\n",
    "        cg2 = lambda x: C/h*0.25*(-1)**3\n",
    "    else:\n",
    "        cg1 = lambda x: C*(1 - 1.5*x**2 + 0.75*x**3)\n",
    "        cg2 = lambda x: C*0.25*(2-x)**3\n",
    "    L = [(r<=2, cg2), (r <= 1, cg1),  (r > 2, zero),(r < 0, zero)]\n",
    "    return conditions(r,L)\n",
    "\n",
    "### ========= WENDLAN KERNEL (ROSSWOG, 2015) ========= ###  \n",
    "    # Gradient of WendlandQuintic kernel(C2) for 3D.         # https://pysph.readthedocs.io/en/latest/reference/kernels.html# Wendland C4\n",
    "    # Gradient of WendlandQuintic kernel(C4) for 3D.          # https://pysph.readthedocs.io/en/latest/reference/kernels.html\n",
    "    \n",
    "def wend2_kernel(r,h,grad=False):\n",
    "    r = r/h\n",
    "    zero = lambda x: 0\n",
    "    if grad:\n",
    "        alpha = 7/(4*np.pi*h**2)\n",
    "        cg1 = lambda x: alpha*(-2*(1-x/2)**3*(2*x+1) +2*(1-x/2)**4)\n",
    "    else:\n",
    "        alpha = 21/(16*np.pi*h**3)\n",
    "        cg1 = lambda x: alpha*(1-x/2)**4*(2*r+1)\n",
    "    L = [(r<=2, cg1), (r > 2, zero),(r < 0, zero)]\n",
    "    return conditions(r,L)\n",
    "    \n",
    "def wend4_kernel(r,h,grad=False):\n",
    "    r = r/h\n",
    "    zero = lambda x: 0\n",
    "    if grad:\n",
    "        alpha = 495/(256*np.pi*h**3) ## Take derivative wrt r\n",
    "        cg1 = lambda x: alpha*-2.5*(1-x/2)**5*(35/12*x**2 + 3*x + 1) + (1-x/2)**6*(35/12*x +3) ## Take derivative wrt r\n",
    "    else:\n",
    "        alpha = 495/(256*np.pi*h**3)\n",
    "        cg1 = lambda x: alpha*(1-x/2)**6*(35/12*x**2 + 3*x + 1)\n",
    "    L = [(r<=2, cg1), (r > 2, zero),(r < 0, zero)]\n",
    "    return conditions(r,L)\n",
    "\n",
    "def holtz_gauss_kernel(r,h,grad=False):\n",
    "    if grad:\n",
    "        return dW_Holtz(r,h)\n",
    "    else:\n",
    "        return W_Holtz(r,h)"
   ]
  },
  {
   "cell_type": "code",
   "execution_count": 45,
   "id": "dbd21dec",
   "metadata": {},
   "outputs": [],
   "source": [
    "get_sphpy_kernels = lambda tag: print(\"No module named 'pysph'\")\n",
    "# import pysph\n",
    "\n",
    "# def get_sphpy_kernels(tag):\n",
    "#    \"\"\" https://pysph.readthedocs.io/en/latest/reference/kernels.html\"\"\"\n",
    "#     if tag = \"cubic_spline\":\n",
    "#         return pysph.base.kernels.CubicSpline(dim=3)\n",
    "#     if tag == \"gaussian\": \n",
    "#         return pysph.base.kernels.Gaussian(dim=3) \n",
    "#     if tag ==   \"quinticspline\":\n",
    "#         return pysph.base.kernels.QuinticSpline(dim=3)\n",
    "#     if tag == \"super_gaussian\": \n",
    "#         return pysph.base.kernels.SuperGaussian(dim=3)\n",
    "#     if tag == \"wend2\":\n",
    "#         return pysph.base.kernels.WendlandQuintic(dim=3)\n",
    "#     if tag == \"wend4\" :\n",
    "#         return pysph.base.kernels.WendlandQuinticC4(dim=3)\n",
    "#     if tag == \"wend6\": \n",
    "#         return pysph.base.kernels.WendlandQuinticC6(dim=3)"
   ]
  },
  {
   "cell_type": "markdown",
   "id": "0d70a3f5",
   "metadata": {},
   "source": [
    "### Kernel Types Implementation"
   ]
  },
  {
   "cell_type": "markdown",
   "id": "8c15aef9",
   "metadata": {},
   "source": [
    "### Select Kernel"
   ]
  },
  {
   "cell_type": "code",
   "execution_count": 46,
   "id": "fd61cef8",
   "metadata": {},
   "outputs": [],
   "source": [
    "def get_kernel(tag):\n",
    "    if tag == \"gaussian\":\n",
    "        return holtz_gauss_kernel\n",
    "    elif tag == \"wendland_2\": \n",
    "        return wend2_kernel\n",
    "    elif tag == \"wendland_4\": \n",
    "        return wend4_kernel\n",
    "    elif tag == \"cubic_spline\":\n",
    "        return cubic_spline_kernel\n",
    "    elif tag == \"faber\":\n",
    "        return starcrash_kernel\n",
    "    elif tag == \"gaussian_s\":\n",
    "        return holtz_gauss_kernel\n",
    "    else:\n",
    "        raise NotImplementedError(\"Trying to implement Unknown Kernel.\")"
   ]
  },
  {
   "cell_type": "markdown",
   "id": "f22c1c8a",
   "metadata": {},
   "source": [
    "### Define Kernel"
   ]
  },
  {
   "cell_type": "code",
   "execution_count": 47,
   "id": "12869bb1",
   "metadata": {},
   "outputs": [],
   "source": [
    "def W(x,y,z,h, tag = \"gaussian\",sphpy=False):\n",
    "    \"\"\" Defined Smoothing kernel (3D).\n",
    "        (x is a vector/matrix of x positions, y is a vector/matrix of y positions. \n",
    "        z = vector/matrix of z positions, h = smoothing length, w = evaluated smoothing function.\n",
    "        Implemented Gaussian, Wendland C2 and Wendland C4 smoothing kernels as recommended by (Rosswog, 2015). \"\"\"\n",
    "    r = np.sqrt(x**2 + y**2 + z**2) \n",
    "    if sphpy:\n",
    "        kernel = get_sphpy_kernels(tag)\n",
    "    else:\n",
    "        kernel = get_kernel(tag)\n",
    "    #kernel = np.vectorize(kernel) # convert the function which takes in integers to a funciton that can take np arrays.\n",
    "    return kernel(r,h) # retrun the kernel evaluated at r with smoothing length h."
   ]
  },
  {
   "cell_type": "markdown",
   "id": "e4ef736b",
   "metadata": {},
   "source": [
    "### Calculate Gradient of the Kernel"
   ]
  },
  {
   "cell_type": "code",
   "execution_count": 48,
   "id": "2a72bce0",
   "metadata": {},
   "outputs": [],
   "source": [
    "def gradW(x,y,z,h,tag = \"gaussian\",sphpy=False):\n",
    "    \"\"\" Gradient of smoothing kernel. We can reconstruct the density at any location using the smoothing kernels.\n",
    "    (x is a vector/matrix of x positions, y is a vector/matrix of y positions, z is a vector/matrix of z positions, h is the smoothing length, wx, wy, wz  is the evaluated gradient)\"\"\"\n",
    "    r = np.sqrt(x**2 + y**2 + z**2)\n",
    "    if sphpy: \n",
    "        kernel = get_sphpy_kernels(tag)\n",
    "    else:\n",
    "        kernel = get_kernel(tag)\n",
    "    #kernel = np.vectorize(kernel) # convert the function which takes in integers to a funciton that can take np arrays.\n",
    "    n = kernel(r,h,grad=True) # gradient of the kernel evaluated at r with smoothing length h.\n",
    "    return n*x, n*y, n*z  # (gradient in the x, y, and z directions)"
   ]
  },
  {
   "cell_type": "markdown",
   "id": "c55f4c1c",
   "metadata": {},
   "source": [
    "# TESTING"
   ]
  },
  {
   "cell_type": "code",
   "execution_count": 49,
   "id": "976aa091",
   "metadata": {},
   "outputs": [
    {
     "data": {
      "text/plain": [
       "(-0.017882232654467207, -0.017882232654467207, -0.017882232654467207)"
      ]
     },
     "execution_count": 49,
     "metadata": {},
     "output_type": "execute_result"
    }
   ],
   "source": [
    "gradW(1,1,1,1)"
   ]
  },
  {
   "cell_type": "code",
   "execution_count": null,
   "id": "c4affa74",
   "metadata": {},
   "outputs": [],
   "source": []
  }
 ],
 "metadata": {
  "kernelspec": {
   "display_name": "Python 3 (ipykernel)",
   "language": "python",
   "name": "python3"
  },
  "language_info": {
   "codemirror_mode": {
    "name": "ipython",
    "version": 3
   },
   "file_extension": ".py",
   "mimetype": "text/x-python",
   "name": "python",
   "nbconvert_exporter": "python",
   "pygments_lexer": "ipython3",
   "version": "3.9.12"
  }
 },
 "nbformat": 4,
 "nbformat_minor": 5
}
