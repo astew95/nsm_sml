{
 "cells": [
  {
   "cell_type": "code",
   "execution_count": 19,
   "id": "5feebf22",
   "metadata": {},
   "outputs": [
    {
     "data": {
      "text/html": [
       "<style>.container { width:98% !important; }</style>"
      ],
      "text/plain": [
       "<IPython.core.display.HTML object>"
      ]
     },
     "metadata": {},
     "output_type": "display_data"
    }
   ],
   "source": [
    "from IPython.display import display, HTML\n",
    "display(HTML(\"<style>.container { width:98% !important; }</style>\"))\n",
    "\n",
    "def set_background(color):    \n",
    "    script = (\n",
    "        \"var cell = this.closest('.jp-CodeCell');\"\n",
    "        \"var editor = cell.querySelector('.jp-Editor');\"\n",
    "        \"editor.style.background='{}';\"\n",
    "        \"this.parentNode.removeChild(this)\"\n",
    "    ).format(color)\n",
    "    \n",
    "    display(HTML('<img src onerror=\"{}\" style=\"display:none\">'.format(script)))"
   ]
  },
  {
   "cell_type": "code",
   "execution_count": 20,
   "id": "648f1ad2",
   "metadata": {},
   "outputs": [
    {
     "data": {
      "text/html": [
       "<img src onerror=\"var cell = this.closest('.jp-CodeCell');var editor = cell.querySelector('.jp-Editor');editor.style.background='green';this.parentNode.removeChild(this)\" style=\"display:none\">"
      ],
      "text/plain": [
       "<IPython.core.display.HTML object>"
      ]
     },
     "metadata": {},
     "output_type": "display_data"
    }
   ],
   "source": [
    "set_background(\"green\")\n",
    "from ipynb.fs.full.kernels import *\n",
    "from ipynb.fs.full.misc import plot_fig\n",
    "#from ipynb.fs.full.com_dynamics import *;"
   ]
  },
  {
   "cell_type": "code",
   "execution_count": 21,
   "id": "230d60a7",
   "metadata": {},
   "outputs": [],
   "source": [
    "import numpy as np\n",
    "import matplotlib.pyplot as plt\n",
    "from scipy.special import gamma\n",
    "\t\n",
    "def getPressure(rho, k, n):\n",
    "\t\"\"\"\n",
    "\tEquation of State\n",
    "\trho   vector of densities\n",
    "\tk     equation of state constant\n",
    "\tn     polytropic index\n",
    "\tP     pressure\n",
    "\t\"\"\"\n",
    "\t\n",
    "\tP = k * rho**(1+1/n)\n",
    "\treturn P\n",
    "\t"
   ]
  },
  {
   "cell_type": "code",
   "execution_count": 22,
   "id": "11ef8b10",
   "metadata": {},
   "outputs": [],
   "source": [
    "def getPairwiseSeparations(ri, rj):\n",
    "    \"\"\" Just finds Cartesian Pairwise Separations between 2 points. \n",
    "    ri is an M x 3 matrix of positions, \n",
    "    rj    is an N x 3 matrix of positions \n",
    "    returns dx, dy, dz   are M x N matrices of separations. \"\"\"\n",
    "    M = ri.shape[0]\n",
    "    N = rj.shape[0]\n",
    "    rix = ri[:,0].reshape((M,1)) # positions ri = (x,y,z)\n",
    "    riy = ri[:,1].reshape((M,1))\n",
    "    riz = ri[:,2].reshape((M,1))\n",
    "    rjx = rj[:,0].reshape((N,1)) # other set of points positions rj = (x,y,z)\n",
    "    rjy = rj[:,1].reshape((N,1))\n",
    "    rjz = rj[:,2].reshape((N,1))\n",
    "    return rix - rjx.T , riy - rjy.T, riz - rjz.T # (dx, dy, dz) # return matrices that store all pairwise particle separations: r_i - r_j\n",
    "\n",
    "def getDensity(r, pos, m, h , tag=\"gaussian\"):\n",
    "    \"\"\" Reconstruct the density at any location based on the sph points.\n",
    "            r     is an M x 3 matrix of sampling locations\n",
    "            pos   is an N x 3 matrix of SPH particle positions\n",
    "          \n",
    "          dx, dy, dz are all M x N matrices. (Seperations). \n",
    "          - Sum over all particle interactions with the points to get the density at the locations in r.\n",
    "          \n",
    "          m = particle mass, h = smoothing length \"\"\"\n",
    "    M = r.shape[0]\n",
    "    dx, dy, dz = getPairwiseSeparations( r, pos );\n",
    "    w = W(dx, dy, dz, h,tag=tag)\n",
    "    rho = np.sum( m * w, 1 ).reshape((M,1)) # (56)\n",
    "    return rho"
   ]
  },
  {
   "cell_type": "code",
   "execution_count": 23,
   "id": "7f4e0989",
   "metadata": {},
   "outputs": [],
   "source": [
    "def getAcc( pos, vel, m, h, k, n, lmbda, nu,tag=\"gaussian\" ):\n",
    "\t\"\"\"\n",
    "\tCalculate the acceleration on each SPH particle\n",
    "\tpos   is an N x 3 matrix of positions\n",
    "\tvel   is an N x 3 matrix of velocities\n",
    "\tm     is the particle mass\n",
    "\th     is the smoothing length\n",
    "\tk     equation of state constant\n",
    "\tn     polytropic index\n",
    "\tlmbda external force constant\n",
    "\tnu    viscosity\n",
    "\ta     is N x 3 matrix of accelerations\n",
    "\t\"\"\"\n",
    "\t\n",
    "\tN = pos.shape[0]\n",
    "\t\n",
    "\t# Calculate densities at the position of the particles\n",
    "\trho = getDensity( pos, pos, m, h ,tag=tag)\n",
    "\t\n",
    "\t# Get the pressures\n",
    "\tP = getPressure(rho, k, n)\n",
    "\t\n",
    "\t# Get pairwise distances and gradients\n",
    "\tdx, dy, dz = getPairwiseSeparations( pos, pos )\n",
    "\tdWx, dWy, dWz = gradW( dx, dy, dz, h ,tag=tag)\n",
    "\t\n",
    "\t# Add Pressure contribution to accelerations\n",
    "\tax = - np.sum( m * ( P/rho**2 + P.T/rho.T**2  ) * dWx, 1).reshape((N,1))\n",
    "\tay = - np.sum( m * ( P/rho**2 + P.T/rho.T**2  ) * dWy, 1).reshape((N,1))\n",
    "\taz = - np.sum( m * ( P/rho**2 + P.T/rho.T**2  ) * dWz, 1).reshape((N,1))\n",
    "\t\n",
    "\ta = np.hstack((ax,ay,az))\n",
    "\t#print(\"a\",a[0])\n",
    "\ta -= lmbda * pos\n",
    "\t#print(\"lmbda\",a[0])\n",
    "\t# Add viscosity\n",
    "\ta -= nu * vel\n",
    "\t#print(\"vel\",a[0])\n",
    "\treturn a"
   ]
  },
  {
   "cell_type": "code",
   "execution_count": 24,
   "id": "854b7ceb",
   "metadata": {},
   "outputs": [],
   "source": [
    "def save(self, timestep, move=False,filename=\"single-star-Nov20\"):\n",
    "    # save data to output files\n",
    "    loc = \"data/\" + filename + \"/initialization/\"\n",
    "    if not os.path.exists(loc):\n",
    "        os.makedirs(loc)\n",
    "    np.savetxt(loc+'pos_'+str(timestep)+'.csv', np.asarray(self.pos))\n",
    "    np.savetxt(loc+'vel_'+str(timestep)+'.csv', np.asarray(self.vel)) \n",
    "    np.savetxt(loc+'acc_'+str(timestep)+'.csv', np.asarray(self.acc)) \n",
    "    np.savetxt(loc+'rho_'+str(timestep)+'.csv', np.asarray(self.pos)) \n",
    "import os"
   ]
  },
  {
   "cell_type": "code",
   "execution_count": 25,
   "id": "97fa8e95",
   "metadata": {},
   "outputs": [],
   "source": [
    "class NS_:\n",
    "    def __init__(self, name, mass = 1, radius = 13, num_points = 300,init_plot_filename = \"file\",h_init=0.5, nu=1,lagrange_tag = \"vanilla\",kernel_type=\"wendland_2\",eta=0.01,clmbda=1, dt = 0.0001 ,tEnd = 0.005,test=False,plot_initialized_star=True,prt=False):\n",
    "        \"\"\" \n",
    "        NEUTRON STAR OBJECT ATTRIBUTES\n",
    "        tag, mass, radius, m (point mass), num_points, eos, lagrange_tag, kernel_type. eta, nu\n",
    "        Point attributes: position (N x 3), vel (N x 3), acc (N x 3), density (N x 1), pressure (N x 1).        \n",
    "        Initializes a NS object.\n",
    "        \"\"\"\n",
    "        self.plot_init=plot_initialized_star\n",
    "        h = None\n",
    "        # Simulation parameters\n",
    "        R = radius\n",
    "        N         = num_points    # Number of particles\n",
    "        t         = 0      # current time of the simulation\n",
    "        tEnd      = 5     # time at which simulation ends\n",
    "        dt        = 0.05   # timestep\n",
    "        M         = mass      # star mass\n",
    "        if h == None:\n",
    "            h = R/10 \n",
    "        self.h = h\n",
    "        # star radius\n",
    "        # smoothing length\n",
    "        k         = 100    # equation of state constant\n",
    "        n         = 1      # polytropic index\n",
    "        nu        = 1      # damping\n",
    "        lmbda = 2*k*(1+n)*np.pi**(-3/(2*n)) * (M*gamma(5/2+n)/R**3/gamma(1+n))**(1/n) / R**2  # ~ 2.01\n",
    "        self.lmbda=lmbda\n",
    "        self.name = name # \"Name\" of the star, just a string for identification\n",
    "        self.radius = radius # star radius in km ======= Star properties\n",
    "        self.mass = mass # star mass in solar Masses \n",
    "        self.num_points = num_points # number of SPH points modeling the star\n",
    "        self.com = [0,0,0] # center of mass is initialized at the origin. ======= Star motion\n",
    "        #self.pos, self.vel, self.acc = init_xva(self.num_points, R = self.radius)\n",
    "        self.pos = np.random.randn(N,3)\n",
    "        self.vel   = np.zeros(self.pos.shape)\n",
    "        self.m = mass/self.num_points # each point has \"mass\" m in solar masses (maybe change later to baryon number)\n",
    "        self.acc = getAcc( self.pos, self.vel, self.m, h, k, n, lmbda, nu ,tag=kernel_type)\n",
    "        self.num_points = np.shape(self.pos)[0] # reset the number of points to match the initialized sphere\n",
    "        self.points_position = np.copy(self.pos) # true position, this will be corrected when we move the center of mass. \n",
    "        self.kernel_type = kernel_type # Kernel used for determining particle density ====== Smoothing Length and Particle Density  ==  \n",
    "        self.eta = eta # Multiplies the smoothing length based on particle density\n",
    "        self.rho = getDensity(self.pos, self.pos, self.m, self.h,tag=kernel_type)\n",
    "        #self.h = calculate_h(self) # Smoothing length depends on density of the particle.\n",
    "        self.Gamma = 5/3\n",
    "        self.Adot = np.zeros(self.rho.shape)\n",
    "        self.A = np.zeros(self.rho.shape)\n",
    "        self.c = None\n",
    "        self.nu=1\n",
    "        self.ltag=\"\"\n",
    "        self.kernel_type = kernel_type\n",
    "        self.test_acc_data = {\"acc\": [], \"dAdt\": [],\"visc\":[],\"pos\":[],\"rho\":[],\"grav\":[],\"Pressure\":[],\"(P - grav force)\":[],\"smoothing length\":[],\"Pos\":[]}\n",
    "        #========= INITIALIZATION STEP. Initialize star from Random points =====#\n",
    "        if not test:\n",
    "            print(\"Initializing...\")\n",
    "        r_start = self.pos[0][0]\n",
    "        self.initialize(tEnd=tEnd,tag=kernel_type,plotRealTime=prt) # initialize the star\n",
    "        return None\n",
    "\n",
    "    def test(self,plot=False,test=True):\n",
    "        plot_init =[]\n",
    "        plot_init.append(self.points_position)\n",
    "        self.initialization_notes = \"none\"\n",
    "        if test:\n",
    "            self.grav_test = None\n",
    "        plot_init.append(self.pos)\n",
    "        if test:\n",
    "            zero=0\n",
    "            self.test_acc_data['acc'].append(self.acc[0][0])\n",
    "            #self.test_acc_data['vel'].append(self.vel[0][0])\n",
    "            self.test_acc_data[\"pos\"].append(zero)\n",
    "            position = self.getPosition()\n",
    "            self.test_acc_data[\"pos\"].append(position[0][0])\n",
    "            self.test_acc_data['dAdt'].append(zero)                \n",
    "            self.test_acc_data['rho'].append(self.rho[0][0])\n",
    "            self.test_acc_data[\"visc\"].append(zero)\n",
    "            self.test_acc_data[\"grav\"].append(zero)\n",
    "            self.test_acc_data[\"Pressure\"].append(zero)\n",
    "            self.test_acc_data[\"(P - grav force)\"].append(zero)\n",
    "            self.test_acc_data[\"smoothing length\"].append(zero)\n",
    "            if plot:\n",
    "                print(\"plotting\")\n",
    "                plot_init.append(self.pos)\n",
    "                data = plot_init\n",
    "                plot_fig(data, \"plot_test_NS\" + self.kernel_type)\n",
    "                print(init_plot_filename)\n",
    "        return None\n",
    "\n",
    "            #========================================================================#\n",
    "                \n",
    "    def save(self, timestep, move=False,filename=\"single-star-Nov20\"):\n",
    "        # save data to output files\n",
    "        loc = \"data/\" + filename + \"/initialization/\"\n",
    "        if not os.path.exists(loc):\n",
    "            os.makedirs(loc)\n",
    "        np.savetxt(loc+'pos_'+str(timestep)+'.csv', np.asarray(self.pos))\n",
    "        if move:\n",
    "            np.savetxt(loc+'com_'+str(timestep)+'.csv', np.asarray(self.com))\n",
    "        np.savetxt(loc+'vel_'+str(timestep)+'.csv', np.asarray(self.vel)) \n",
    "        np.savetxt(loc+'acc_'+str(timestep)+'.csv', np.asarray(self.acc)) \n",
    "        np.savetxt(loc+'rho_'+str(timestep)+'.csv', np.asarray(self.pos)) \n",
    "        \n",
    "    def initialize(self,tEnd = 5,plotRealTime = False,h = None,tag=\"gaussian\",save=False,dt=None):\n",
    "        \"\"\" SPH simulation \"\"\"\n",
    "        # Simulation parameters\n",
    "        N         = self.num_points    # Number of particles\n",
    "        t         = 0      # current time of the simulation\n",
    "        # tEnd is the time at which simulation ends\n",
    "        if dt== None:\n",
    "            dt = 0.05   # timestep\n",
    "        M = self.mass\n",
    "        R = self.radius\n",
    "        if h == None:\n",
    "            h = R/10  # smoothing length\n",
    "        k         = 100    # equation of state constant\n",
    "        n         = 1      # polytropic index\n",
    "        nu        = 1      # damping\n",
    "        lmbda = 2*k*(1+n)*np.pi**(-3/(2*n)) * (M*gamma(5/2+n)/R**3/gamma(1+n))**(1/n) / R**2  # ~ 2.01\n",
    "        m     = self.m                  # single particle mass\n",
    "        # calculate initial gravitational accelerations\n",
    "        Nt = int(np.ceil(tEnd/dt))# number of timesteps\n",
    "        if self.plot_init:\n",
    "            # prep figure\n",
    "            fig = plt.figure(figsize=(4,5), dpi=80)\n",
    "            grid = plt.GridSpec(3, 1, wspace=0.0, hspace=0.3)\n",
    "            ax1 = plt.subplot(grid[0:2,0])\n",
    "            ax2 = plt.subplot(grid[2,0])\n",
    "        rr = np.zeros((100,3))\n",
    "        rlin = np.linspace(0,1,100)\n",
    "        rr[:,0] =rlin\n",
    "        rho_analytic = lmbda/(4*k) * (R**2 - rlin**2)\n",
    "        if save:\n",
    "            print(\"Timesteps:\",Nt)\n",
    "        # Simulation Main Loop\n",
    "        for i in range(Nt):\n",
    "            self.vel += self.acc * dt/2 # (1/2) kick\n",
    "            self.pos += self.vel * dt # drift\n",
    "            self.acc = getAcc( self.pos, self.vel, self.m, h, k, n, lmbda, nu ,tag=tag)# update accelerations\n",
    "            self.vel += self.acc * dt/2# (1/2) kick\n",
    "            t += dt # update time\n",
    "            timestep=i\n",
    "            self.rho = getDensity( self.pos, self.pos, self.m, self.h ,tag=tag) # get density for plotting\n",
    "            if save:\n",
    "                loc = \"init_test_data/\"+ tag+\"_\"+str(N)+\"/\"\n",
    "                if not os.path.exists(loc):\n",
    "                    os.makedirs(loc)\n",
    "                np.savetxt(loc+'pos_'+str(timestep)+'.csv', np.asarray(self.pos))\n",
    "                np.savetxt(loc+'vel_'+str(timestep)+'.csv', np.asarray(self.vel)) \n",
    "                np.savetxt(loc+'acc_'+str(timestep)+'.csv', np.asarray(self.acc)) \n",
    "                np.savetxt(loc+'rho_'+str(timestep)+'.csv', np.asarray(self.rho)) \n",
    "            # plot in real time\n",
    "            if plotRealTime or (i == Nt-1):# or (i%10==0):\n",
    "                self.test()\n",
    "                if ((i == Nt-1) or plotRealTime) and self.plot_init and (i%100==0):\n",
    "                    print(\"t=\",t)\n",
    "                    plt.sca(ax1)\n",
    "                    plt.cla()\n",
    "                    cval = np.minimum((self.rho-3)/3,1).flatten()\n",
    "                    plt.scatter(self.pos[:,0],self.pos[:,1], c=cval, cmap=plt.cm.autumn, s=5, alpha=0.5)\n",
    "                    ax1.set(xlim=(-2*R, 2*R), ylim=(-2*R, 2*R))\n",
    "                    ax1.set_aspect('equal', 'box')\n",
    "                    #ax1.set_xticks([-1,0,1])\n",
    "                    #ax1.set_yticks([-1,0,1])\n",
    "                    ax1.set_facecolor('grey')\n",
    "                    ax1.set_facecolor((.1,.1,.1))\n",
    "                    plt.sca(ax2)\n",
    "                    plt.cla()\n",
    "                    ax2.set(xlim=(0, R), ylim=(0, 3))\n",
    "                    ax2.set_aspect(0.1)\n",
    "                    plt.plot(rlin, rho_analytic, color='gray', linewidth=2)\n",
    "                    rho_radial = getDensity( rr, self.pos, self.m, self.h,tag=tag )\n",
    "                    plt.plot(rlin, rho_radial, color='blue')\n",
    "                    plt.pause(0.001)\n",
    "        if save: \n",
    "            INFO_OUT = \"\\n\\nSingle Star Initialization Run \\nnumber of Points: \"+str(N)+\"\\nradius: \"+str(R)\n",
    "            INFO_OUT += \"\\ntimestep: \"+str(dt) + \"\\ntotal time:\"+str(tEnd) + \"\\nNumber of timesteps: \"+str(Nt)\n",
    "            INFO_OUT +=\"\\npoint mass: \"+str(self.m)+\" solar masses\"+\"\\nkernel type: \"+str(self.name)+ \"\\nFor more info on kernel type, smoothing lengths, see the sph imports file.\"\n",
    "            with open(loc + 'info.txt', 'w') as f:\n",
    "                f.write(INFO_OUT) \n",
    "\n",
    "        # add labels/legend\n",
    "        if self.plot_init:\n",
    "            plt.sca(ax2)\n",
    "            plt.xlabel('radius')\n",
    "            plt.ylabel('density')\n",
    "\n",
    "            # Save figure\n",
    "            plt.savefig('sph.png',dpi=240)\n",
    "            plt.show()\n",
    "        print(\"R = \",R, \", M=\", M)    \n",
    "        return 0   \n",
    "        \n",
    "    def update_star_new(self,plotRealTime = False,h = None,tag=\"gaussian\",save=False,dt=None,COM_POSITIONS = [],params=None):\n",
    "        \"\"\" SPH simulation \"\"\"\n",
    "        # Simulation parameters\n",
    "        tEnd = 0.8 # tEnd is the time at which simulation ends\n",
    "        Nt = len(COM_POSITIONS) # number of timesteps\n",
    "        dt        =  tEnd/Nt # timestep\n",
    "        N         = self.num_points    # Number of particles\n",
    "        t         = 0      # current time of the simulation\n",
    "        M = self.mass\n",
    "        R = self.radius\n",
    "        if h == None:\n",
    "            h = R/10  # approximate smoothing length\n",
    "        if params==None:\n",
    "            k         = 100    # equation of state constant\n",
    "            n         = 1      # polytropic index\n",
    "            nu        = 1      # damping\n",
    "        else:\n",
    "            k = params[\"k\"]\n",
    "            n = params[\"n\"]\n",
    "            nu = params[\"nu\"]\n",
    "        lmbda = 2*k*(1+n)*np.pi**(-3/(2*n)) * (M*gamma(5/2+n)/R**3/gamma(1+n))**(1/n) / R**2  # ~ 2.01\n",
    "        m     = self.m                  # single particle mass\n",
    "        # calculate initial gravitational accelerations\n",
    "        \n",
    "        if self.plot_init:\n",
    "            # prep figure\n",
    "            fig = plt.figure(figsize=(4,5), dpi=80)\n",
    "            grid = plt.GridSpec(3, 1, wspace=0.0, hspace=0.3)\n",
    "            ax1 = plt.subplot(grid[0:2,0])\n",
    "            ax2 = plt.subplot(grid[2,0])\n",
    "        rr = np.zeros((100,3))\n",
    "        rlin = np.linspace(0,1,100)\n",
    "        rr[:,0] =rlin\n",
    "        rho_analytic = lmbda/(4*k) * (R**2 - rlin**2)\n",
    "        if save:\n",
    "            print(\"Timesteps:\",Nt)\n",
    "        # Simulation Main Loop\n",
    "        for i in range(Nt):\n",
    "            self.test()\n",
    "            #print(self.com)\n",
    "            position = self.getPosition()\n",
    "            self.com = COM_POSITIONS[i]\n",
    "            self.vel += self.acc * dt/2 # (1/2) kick\n",
    "            self.pos += self.vel * dt # drift\n",
    "            self.acc = getAcc( position, self.vel, self.m, h, k, n, lmbda, nu,tag=tag )# update accelerations\n",
    "            self.vel += self.acc * dt/2# (1/2) kick\n",
    "            t += dt # update time\n",
    "            timestep=i\n",
    "            self.rho = getDensity( position, position, self.m, self.h,tag=tag ) # get density for plotting\n",
    "            if save:\n",
    "                loc = \"init_test_data/\"+ tag+\"_\"+str(N)+\"/\"\n",
    "                if not os.path.exists(loc):\n",
    "                    os.makedirs(loc)\n",
    "                np.savetxt(loc+'pos_'+str(timestep)+'.csv', np.asarray(self.pos))\n",
    "                np.savetxt(loc+'vel_'+str(timestep)+'.csv', np.asarray(self.vel)) \n",
    "                np.savetxt(loc+'acc_'+str(timestep)+'.csv', np.asarray(self.acc)) \n",
    "                np.savetxt(loc+'rho_'+str(timestep)+'.csv', np.asarray(self.rho)) \n",
    "            # plot in real time\n",
    "            if plotRealTime or (i == Nt-1) or (i%100==0):\n",
    "                if ((i == Nt-1) or plotRealTime) and self.plot_init and (i%25==0):\n",
    "                    print(\"t=\",t)\n",
    "                    plt.sca(ax1)\n",
    "                    plt.cla()\n",
    "                    cval = np.minimum((self.rho-3)/3,1).flatten()\n",
    "                    plt.scatter(self.position[:,0],self.position[:,1], c=cval, cmap=plt.cm.autumn, s=2, alpha=0.5)\n",
    "                    ax1.set(xlim=(-2*R, 2*R), ylim=(-2*R, 2*R))\n",
    "                    ax1.set_aspect('equal', 'box')\n",
    "                    #ax1.set_xticks([-1,0,1])\n",
    "                    #ax1.set_yticks([-1,0,1])\n",
    "                    ax1.set_facecolor('grey')\n",
    "                    plt.sca(ax2)\n",
    "                    plt.cla()\n",
    "                    ax2.set(xlim=(0, R), ylim=(0, 3))\n",
    "                    ax2.set_aspect(0.1)\n",
    "                    plt.plot(rlin, rho_analytic, color='gray', linewidth=2)\n",
    "                    rho_radial = getDensity( rr, self.pos, self.m, self.h )\n",
    "                    plt.plot(rlin, rho_radial, color='blue')\n",
    "                    plt.pause(0.001)\n",
    "        if save: \n",
    "            INFO_OUT = \"\\n\\nSingle Star Initialization Run \\nnumber of Points: \"+str(N)+\"\\nradius: \"+str(R)\n",
    "            INFO_OUT += \"\\ntimestep: \"+str(dt) + \"\\ntotal time:\"+str(tEnd) + \"\\nNumber of timesteps: \"+str(Nt)\n",
    "            INFO_OUT +=\"\\npoint mass: \"+str(self.m)+\" solar masses\"+\"\\nkernel type: \"+str(self.name)+ \"\\nFor more info on kernel type, smoothing lengths, see the sph imports file.\"\n",
    "            with open(loc + 'info.txt', 'w') as f:\n",
    "                f.write(INFO_OUT) \n",
    "\n",
    "        # add labels/legend\n",
    "        if self.plot_init:\n",
    "            plt.sca(ax2)\n",
    "            plt.xlabel('radius')\n",
    "            plt.ylabel('density')\n",
    "\n",
    "            # Save figure\n",
    "            plt.savefig('sph.png',dpi=240)\n",
    "            plt.show()\n",
    "        print(\"R = \",R, \", M=\", M,\", k=\",k,)    \n",
    "        return 0        \n",
    "\n",
    "    def update_star(self,dt=None):\n",
    "        if dt == None:\n",
    "            dt = calculate_tstep(self)\n",
    "        self.A = self.A + dt/2*self.Adot # update A\n",
    "        self.h = calculate_h(self)\n",
    "        self.pos += self.vel * dt/2 # particle motion\n",
    "        self.vel += self.acc * dt/2 # (1/2) kick # adds acceleration\n",
    "        self.acc = getAcc(self, test=self.test) # get new Nx3 matrix of accelerations based on new pos,v\n",
    "        self.vel += self.acc * dt/2 # (1/2) kick \n",
    "        self.pos += self.vel * dt/2 # particle motion\n",
    "        positions = self.getPosition()\n",
    "        self.rho = getDensity(positions, positions, self.m, self.h) # get updated density for each point based on m, h. \n",
    "        self.position = positions\n",
    "        return self.pos\n",
    "        \n",
    "    def combine(self, star): \n",
    "        star1_pos = self.getPosition()\n",
    "        star2_pos = star.getPosition()\n",
    "        self.vel = np.concatenate((self.vel,star.vel), axis = 0)\n",
    "        self.pos = np.concatenate((self.pos,star.pos), axis = 0)\n",
    "        self.position = np.concatenate((star1_pos,star2_pos), axis = 0)\n",
    "        self.acc = np.concatenate((self.acc,star.acc), axis = 0)\n",
    "        self.rho = getDensity(self.position, self.position, self.m, self.h)\n",
    "        #self.h = np.concatenate((self.h,star.h), axis = 0)\n",
    "        self.num_points = self.num_points + star.num_points\n",
    "        if self.m != star.m: \n",
    "            raise SyntaxError(\"star.m must be the same!\")\n",
    "        self.com = [self.com, star.com]\n",
    "        return self\n",
    "    \n",
    "    def getPosition(self):\n",
    "        \"\"\" \n",
    "        Returns the true positions of all the points \n",
    "        in the star, which are corrcted for the center of mass location.\n",
    "        \"\"\"\n",
    "        position = np.copy(self.pos)\n",
    "        COM = self.com\n",
    "        # print(\"CENT\", COM)\n",
    "        if np.size(COM[0]) > 2:\n",
    "            i = int(self.num_points/2)\n",
    "            position[:i,0] += COM[0][0]\n",
    "            position[:i,1] += COM[0][1]\n",
    "            position[:i,2] += COM[0][2]\n",
    "            position[i+1:,0] += COM[1][0]\n",
    "            position[i+1:,1] += COM[1][1]\n",
    "            position[i+1:,2] += COM[1][2]\n",
    "        else:\n",
    "            position[:,0] += COM[0]\n",
    "            position[:,1] += COM[1]\n",
    "            position[:,2] += COM[2]\n",
    "        self.position  = position # track the true particle locations\n",
    "        return position\n",
    "    \n",
    "    def move_com(self, com_new,com2 = [None]): \n",
    "        \"\"\"\n",
    "        Takes in new coordinates of the center of mass of the star in km. \n",
    "        Changes the location of the star's center of mass.\n",
    "        \"\"\"\n",
    "        if com2[0] == None:\n",
    "            self.com = com_new\n",
    "        else:\n",
    "            self.com = [com_new,com2]\n",
    "\n",
    "    def __str__(self):\n",
    "        return \"\\nSTAR OBJECT. Name: '\" + self.name + \"', Mass: \" + str(self.mass) + \" SMs, Radius: \" # + str(self.radius) + \" km\" \n",
    "    def get_relative_position(self):\n",
    "        \"\"\"  This function returns an N x 3 array of the star's points positions relative to the center of mass \"\"\"\n",
    "        return self.pos\n",
    "    def get_velocity(self):\n",
    "        \"\"\" This function returns the star's velocity.    \"\"\"\n",
    "        return self.vel\n",
    "    def get_mass(self):\n",
    "        \"\"\" This function returns the star's overall mass . \"\"\"\n",
    "        return self.mass"
   ]
  },
  {
   "cell_type": "code",
   "execution_count": 26,
   "id": "c3ff9252",
   "metadata": {},
   "outputs": [
    {
     "name": "stdout",
     "output_type": "stream",
     "text": [
      "Initializing...\n",
      "R =  13 , M= 1\n"
     ]
    }
   ],
   "source": [
    "star1 = NS_(\"mystar\", mass = 1, radius = 13, num_points = 400,plot_initialized_star=False,kernel_type=\"gaussian\")"
   ]
  },
  {
   "cell_type": "code",
   "execution_count": 22,
   "id": "062e52e9",
   "metadata": {},
   "outputs": [
    {
     "name": "stdout",
     "output_type": "stream",
     "text": [
      "t= 4.99999999999999\n"
     ]
    },
    {
     "data": {
      "image/png": "[encoded data removed]",
      "text/plain": [
       "<Figure size 320x400 with 2 Axes>"
      ]
     },
     "metadata": {
      "needs_background": "light"
     },
     "output_type": "display_data"
    },
    {
     "data": {
      "image/png": "[encoded data removed]",
      "text/plain": [
       "<Figure size 320x400 with 2 Axes>"
      ]
     },
     "metadata": {
      "needs_background": "light"
     },
     "output_type": "display_data"
    },
    {
     "name": "stdout",
     "output_type": "stream",
     "text": [
      "R =  12 , M= 2 , k= 100\n"
     ]
    },
    {
     "data": {
      "text/plain": [
       "0"
      ]
     },
     "execution_count": 22,
     "metadata": {},
     "output_type": "execute_result"
    }
   ],
   "source": [
    "# \"cubic_spline\"\n",
    "#main(npts=75,R=12,tag=\"cubic_spline\")"
   ]
  },
  {
   "cell_type": "code",
   "execution_count": 23,
   "id": "e888224c",
   "metadata": {},
   "outputs": [
    {
     "name": "stdout",
     "output_type": "stream",
     "text": [
      "t= 4.99999999999999\n"
     ]
    },
    {
     "data": {
      "image/png": "[encoded data removed]",
      "text/plain": [
       "<Figure size 320x400 with 2 Axes>"
      ]
     },
     "metadata": {
      "needs_background": "light"
     },
     "output_type": "display_data"
    },
    {
     "data": {
      "image/png": "[encoded data removed]",
      "text/plain": [
       "<Figure size 320x400 with 2 Axes>"
      ]
     },
     "metadata": {
      "needs_background": "light"
     },
     "output_type": "display_data"
    },
    {
     "name": "stdout",
     "output_type": "stream",
     "text": [
      "R =  12 , M= 2 , k= 100\n"
     ]
    },
    {
     "data": {
      "text/plain": [
       "0"
      ]
     },
     "execution_count": 23,
     "metadata": {},
     "output_type": "execute_result"
    }
   ],
   "source": [
    "# \"wendland_2\"\n",
    "#main(npts=600,R=12,tag=\"cubic_spline\")"
   ]
  },
  {
   "cell_type": "code",
   "execution_count": 24,
   "id": "24338570",
   "metadata": {},
   "outputs": [
    {
     "name": "stdout",
     "output_type": "stream",
     "text": [
      "t= 4.99999999999999\n"
     ]
    },
    {
     "data": {
      "image/png": "[encoded data removed]",
      "text/plain": [
       "<Figure size 320x400 with 2 Axes>"
      ]
     },
     "metadata": {
      "needs_background": "light"
     },
     "output_type": "display_data"
    },
    {
     "data": {
      "image/png": "[encoded data removed]",
      "text/plain": [
       "<Figure size 320x400 with 2 Axes>"
      ]
     },
     "metadata": {
      "needs_background": "light"
     },
     "output_type": "display_data"
    },
    {
     "name": "stdout",
     "output_type": "stream",
     "text": [
      "R =  12 , M= 2 , k= 100\n"
     ]
    },
    {
     "data": {
      "text/plain": [
       "0"
      ]
     },
     "execution_count": 24,
     "metadata": {},
     "output_type": "execute_result"
    }
   ],
   "source": [
    "# gaussian kernel (me)\n",
    "#main(npts=100,R=12)"
   ]
  },
  {
   "cell_type": "code",
   "execution_count": 25,
   "id": "ef51e279",
   "metadata": {},
   "outputs": [
    {
     "name": "stdout",
     "output_type": "stream",
     "text": [
      "t= 4.99999999999999\n"
     ]
    },
    {
     "data": {
      "image/png": "[encoded data removed]",
      "text/plain": [
       "<Figure size 320x400 with 2 Axes>"
      ]
     },
     "metadata": {
      "needs_background": "light"
     },
     "output_type": "display_data"
    },
    {
     "data": {
      "image/png": "[encoded data removed]",
      "text/plain": [
       "<Figure size 320x400 with 2 Axes>"
      ]
     },
     "metadata": {
      "needs_background": "light"
     },
     "output_type": "display_data"
    },
    {
     "name": "stdout",
     "output_type": "stream",
     "text": [
      "R =  12 , M= 2 , k= 100\n"
     ]
    },
    {
     "data": {
      "text/plain": [
       "0"
      ]
     },
     "execution_count": 25,
     "metadata": {},
     "output_type": "execute_result"
    }
   ],
   "source": [
    "# gaussian kernel (medium)\n",
    "#main(npts=600,R=12)"
   ]
  }
 ],
 "metadata": {
  "kernelspec": {
   "display_name": "Python 3 (ipykernel)",
   "language": "python",
   "name": "python3"
  },
  "language_info": {
   "codemirror_mode": {
    "name": "ipython",
    "version": 3
   },
   "file_extension": ".py",
   "mimetype": "text/x-python",
   "name": "python",
   "nbconvert_exporter": "python",
   "pygments_lexer": "ipython3",
   "version": "3.9.12"
  }
 },
 "nbformat": 4,
 "nbformat_minor": 5
}
